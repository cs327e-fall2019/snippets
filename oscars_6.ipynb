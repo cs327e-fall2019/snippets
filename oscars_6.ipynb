{
 "cells": [
  {
   "cell_type": "code",
   "execution_count": 2,
   "metadata": {},
   "outputs": [],
   "source": [
    "import apache_beam as beam\n",
    "from apache_beam import pvalue\n",
    "from apache_beam.io import ReadFromText\n",
    "from apache_beam.io import WriteToText"
   ]
  },
  {
   "cell_type": "code",
   "execution_count": 3,
   "metadata": {},
   "outputs": [],
   "source": [
    "# DoFn with multiple outputs\n",
    "class ActorActressCountFn(beam.DoFn):\n",
    "    \n",
    "  OUTPUT_TAG_ACTOR_COUNT = 'tag_actor_count'\n",
    "  OUTPUT_TAG_ACTRESS_COUNT = 'tag_actress_count'\n",
    "  \n",
    "  def process(self, element):\n",
    "    values = element.strip().split('\\t')\n",
    "    year = values[0]\n",
    "    category = values[1]\n",
    "    winner = values[2]\n",
    "    entity = values[3]\n",
    "\n",
    "    if 'ACTOR' in category:\n",
    "        yield pvalue.TaggedOutput(self.OUTPUT_TAG_ACTOR_COUNT, (entity, 1))  \n",
    "        \n",
    "    if 'ACTRESS' in category:\n",
    "        yield pvalue.TaggedOutput(self.OUTPUT_TAG_ACTRESS_COUNT, (entity, 1))  \n",
    "    \n",
    "# Create a Pipeline using the local runner \n",
    "with beam.Pipeline('DirectRunner') as p:\n",
    "\n",
    "    # create a PCollection from the file contents.\n",
    "    in_pcoll = p | 'Read File' >> ReadFromText('oscars_input.tsv')\n",
    "\n",
    "    # apply a ParDo to the PCollection \n",
    "    out_pcoll = in_pcoll | 'Extract Actor and Actress' >> beam.ParDo(ActorActressCountFn()).with_outputs(\n",
    "                                                          ActorActressCountFn.OUTPUT_TAG_ACTOR_COUNT,\n",
    "                                                          ActorActressCountFn.OUTPUT_TAG_ACTRESS_COUNT)\n",
    "                                                          \n",
    "    actor_pcoll = out_pcoll[ActorActressCountFn.OUTPUT_TAG_ACTOR_COUNT]\n",
    "    actress_pcoll = out_pcoll[ActorActressCountFn.OUTPUT_TAG_ACTRESS_COUNT]\n",
    "\n",
    "    # write PCollections to files\n",
    "    actor_pcoll | 'Write File' >> WriteToText('actor_output.txt')\n",
    "    actress_pcoll | 'Write File' >> WriteToText('actress_output.txt')"
   ]
  },
  {
   "cell_type": "code",
   "execution_count": null,
   "metadata": {},
   "outputs": [],
   "source": []
  }
 ],
 "metadata": {
  "kernelspec": {
   "display_name": "Python (beam_venv)",
   "language": "python",
   "name": "beam_venv_kernel"
  },
  "language_info": {
   "codemirror_mode": {
    "name": "ipython",
    "version": 2
   },
   "file_extension": ".py",
   "mimetype": "text/x-python",
   "name": "python",
   "nbconvert_exporter": "python",
   "pygments_lexer": "ipython2",
   "version": "2.7.13"
  }
 },
 "nbformat": 4,
 "nbformat_minor": 4
}
