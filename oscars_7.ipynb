{
 "cells": [
  {
   "cell_type": "code",
   "execution_count": 3,
   "metadata": {},
   "outputs": [],
   "source": [
    "import apache_beam as beam\n",
    "from apache_beam import pvalue\n",
    "from apache_beam.io import ReadFromText\n",
    "from apache_beam.io import WriteToText"
   ]
  },
  {
   "cell_type": "code",
   "execution_count": 4,
   "metadata": {},
   "outputs": [],
   "source": [
    "# DoFn with multiple outputs\n",
    "class ActorActressCountFn(beam.DoFn):\n",
    "    \n",
    "  OUTPUT_TAG_ACTOR_COUNT = 'tag_actor_count'\n",
    "  OUTPUT_TAG_ACTRESS_COUNT = 'tag_actress_count'\n",
    "  \n",
    "  def process(self, element):\n",
    "    values = element.strip().split('\\t')\n",
    "    year = values[0]\n",
    "    category = values[1]\n",
    "    winner = values[2]\n",
    "    entity = values[3]\n",
    "\n",
    "    if 'ACTOR' in category:\n",
    "        yield pvalue.TaggedOutput(self.OUTPUT_TAG_ACTOR_COUNT, [(entity, 1)]) \n",
    "        \n",
    "    if 'ACTRESS' in category:\n",
    "        yield pvalue.TaggedOutput(self.OUTPUT_TAG_ACTRESS_COUNT, [(entity, 1)]) \n",
    "        \n",
    "# DoFn with single output\n",
    "class SumNominationsFn(beam.DoFn):\n",
    "  \n",
    "  def process(self, element):\n",
    "     name, counts = element\n",
    "     total_counts = len(counts)\n",
    "     return [(name, total_counts)]  \n",
    "    \n",
    "# Create a Pipeline using a local runner for execution.\n",
    "with beam.Pipeline('DirectRunner') as p:\n",
    "\n",
    "    # create PCollection from the file contents.\n",
    "    in_pcoll = p | 'Read File' >> ReadFromText('oscars_input.tsv')\n",
    "\n",
    "    # apply ParDo with tagged outputs\n",
    "    out_pcoll = in_pcoll | 'Extract Actor and Actress' >> beam.ParDo(ActorActressCountFn()).with_outputs(\n",
    "                                                          ActorActressCountFn.OUTPUT_TAG_ACTOR_COUNT,\n",
    "                                                          ActorActressCountFn.OUTPUT_TAG_ACTRESS_COUNT)\n",
    "                                                          \n",
    "    actor_pcoll = out_pcoll[ActorActressCountFn.OUTPUT_TAG_ACTOR_COUNT]\n",
    "    actress_pcoll = out_pcoll[ActorActressCountFn.OUTPUT_TAG_ACTRESS_COUNT]\n",
    "    \n",
    "    # write PCollections to files\n",
    "    actor_pcoll | 'Write Actor File 1' >> WriteToText('actor_output.txt')\n",
    "    actress_pcoll | 'Write Actress File 1' >> WriteToText('actress_output.txt')\n",
    "    \n",
    "    # apply GroupByKey \n",
    "    grouped_actor_pcoll = actor_pcoll | 'Group by Actor' >> beam.GroupByKey()\n",
    "    grouped_actress_pcoll = actress_pcoll | 'Group by Actress' >> beam.GroupByKey()\n",
    "    \n",
    "    # write PCollections to files\n",
    "    grouped_actor_pcoll | 'Write Actor File 2' >> WriteToText('grouped_actor_output.txt')\n",
    "    grouped_actress_pcoll | 'Write Actress File 2' >> WriteToText('grouped_actress_output.txt')\n",
    "\n",
    "    # apply ParDo with single DoFn on both PCollections\n",
    "    summed_actor_pcoll = grouped_actor_pcoll | 'Sum up Actor Nominations' >> beam.ParDo(SumNominationsFn())\n",
    "    summed_actress_pcoll = grouped_actress_pcoll | 'Sum up Actress Nominations' >> beam.ParDo(SumNominationsFn())\n",
    "    \n",
    "    # write PCollections to files\n",
    "    summed_actor_pcoll | 'Write Actor File 3' >> WriteToText('summed_actor_output.txt')\n",
    "    summed_actress_pcoll | 'Write Actress File 3' >> WriteToText('summed_actress_output.txt')"
   ]
  },
  {
   "cell_type": "code",
   "execution_count": null,
   "metadata": {},
   "outputs": [],
   "source": []
  }
 ],
 "metadata": {
  "kernelspec": {
   "display_name": "Python (beam_venv)",
   "language": "python",
   "name": "beam_venv_kernel"
  },
  "language_info": {
   "codemirror_mode": {
    "name": "ipython",
    "version": 2
   },
   "file_extension": ".py",
   "mimetype": "text/x-python",
   "name": "python",
   "nbconvert_exporter": "python",
   "pygments_lexer": "ipython2",
   "version": "2.7.13"
  }
 },
 "nbformat": 4,
 "nbformat_minor": 4
}
